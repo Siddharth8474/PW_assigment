{
  "nbformat": 4,
  "nbformat_minor": 0,
  "metadata": {
    "colab": {
      "provenance": [],
      "authorship_tag": "ABX9TyOceh/Sn2SS58yrKfhatK0o",
      "include_colab_link": true
    },
    "kernelspec": {
      "name": "python3",
      "display_name": "Python 3"
    },
    "language_info": {
      "name": "python"
    }
  },
  "cells": [
    {
      "cell_type": "markdown",
      "metadata": {
        "id": "view-in-github",
        "colab_type": "text"
      },
      "source": [
        "<a href=\"https://colab.research.google.com/github/Siddharth8474/PW_assigment/blob/main/PW_1st_assignment.ipynb\" target=\"_parent\"><img src=\"https://colab.research.google.com/assets/colab-badge.svg\" alt=\"Open In Colab\"/></a>"
      ]
    },
    {
      "cell_type": "markdown",
      "source": [
        "**Python Basics Questions**"
      ],
      "metadata": {
        "id": "VIpnzVPtlmT2"
      }
    },
    {
      "cell_type": "markdown",
      "source": [
        "**1.What is Python, and why is it popular**\n",
        "   \n",
        "   Python is a high-level, general-purpose programming language. Think of it as a versatile tool that can build almost anything, from websites and apps to AI models and data analysis tools.\n",
        "\n",
        "It's incredibly popular for a few key reasons:\n",
        "\n",
        "Simple and Readable: Python's syntax is clean and easy to read, almost like plain English. This makes it faster to write programs and easier for beginners to learn.\n",
        "\n",
        "Versatile: It's a jack-of-all-trades. You can find Python being used for web development (like Django and Flask), data science and machine learning (with libraries like Pandas and TensorFlow), automation, and much more.\n",
        "\n",
        "Huge Community and Libraries: Python has a massive, active community. This means if you're stuck, help is easy to find. It also has a vast collection of pre-written code packages (libraries) that you can plug into your own projects, saving you a ton of time."
      ],
      "metadata": {
        "id": "_dIP9B6NlwRc"
      }
    },
    {
      "cell_type": "markdown",
      "source": [
        "**2.What is an interpreter in Python?**\n",
        "\n",
        "   An interpreter in Python is a program that reads and executes Python code line by line, translating it into a form the computer can understand.\n",
        "\n",
        "Key Points:\n",
        "\n",
        "Works like a translator who translates one sentence at a time.\n",
        "\n",
        "Runs the program step by step, line after line.\n",
        "\n",
        "If it finds an error, it stops immediately and shows the mistake.\n",
        "\n",
        "Makes Python easy to test and debug."
      ],
      "metadata": {
        "id": "FuzoSKnSuzkR"
      }
    },
    {
      "cell_type": "markdown",
      "source": [
        "**3.What are pre-defined keywords in Python?**\n",
        "     \n",
        "  Keywords are the reserved words that have special meanings in the Python language. They are the fundamental building blocks that structure your code. You can't use them for anything else, like naming your variables.\n",
        "\n",
        "  Some common examples include if, else, for, while, def (for defining functions), class, True, False, and None."
      ],
      "metadata": {
        "id": "jxsqDfvKz-LA"
      }
    },
    {
      "cell_type": "markdown",
      "source": [
        "**4.Can keywords be used as variable names?**\n",
        "\n",
        "  No keywords can not be use as a veriable names\n",
        "  Keywords are reserved for specific purposes by the Python language itself. If you try to use a keyword as a variable name, like if = 10, Python will get confused because it expects if to start a conditional statement, not to be a variable. This will result in a SyntaxError.\n",
        "\n"
      ],
      "metadata": {
        "id": "GOLneB0z0ocZ"
      }
    },
    {
      "cell_type": "markdown",
      "source": [
        "**5.What is mutability in Python?**\n",
        "\n",
        "  Mutability refers to whether an object's value or state can be changed after it has been created.\n",
        "\n",
        "  A mutable object can be modified. Think of it like a document on your computer that you can open, edit, and save. Lists, dictionaries, and sets are mutable.\n",
        "\n"
      ],
      "metadata": {
        "id": "BcFrazsu16yt"
      }
    },
    {
      "cell_type": "markdown",
      "source": [
        "**6.Why are lists mutable, but tuples are immutable?**\n",
        "\n",
        "  Lists are mutable because they are designed to store and manage dynamic data.\n",
        "  You can add, remove, or change elements after the list is created.\n",
        "\n",
        "  Tuples are immutable because they are meant to store fixed data that should not change.\n",
        "  Once created, the elements inside a tuple cannot be modified."
      ],
      "metadata": {
        "id": "Xv3Bk17p8V_F"
      }
    },
    {
      "cell_type": "markdown",
      "source": [
        "**7.What is the difference between “==” and “is” operators in Python?**\n",
        "\n",
        "   The == operator checks for equality. It asks, \"Do these two variables have the same value?\"\n",
        "\n",
        "   The is operator checks for identity. It asks, \"Do these two variables point to the exact same object in memory?\""
      ],
      "metadata": {
        "id": "aQo6gA1W9AWd"
      }
    },
    {
      "cell_type": "code",
      "source": [
        " #Example\n",
        "list_a = [1, 2, 3]\n",
        "list_b = [1, 2, 3] # A different object with the same value\n",
        "list_c = list_a     # Points to the exact same object as list_a\n",
        "\n",
        "print(list_a == list_b)  # True, because their values are the same\n",
        "print(list_a is list_b)  # False, because they are two separate objects in memory\n",
        "print(list_a is list_c)  # True, because they both refer to the very same object"
      ],
      "metadata": {
        "colab": {
          "base_uri": "https://localhost:8080/"
        },
        "id": "2eY2zP02-oO3",
        "outputId": "d079c87b-dd6d-46dc-c8cc-012cbc1c5332"
      },
      "execution_count": null,
      "outputs": [
        {
          "output_type": "stream",
          "name": "stdout",
          "text": [
            "True\n",
            "False\n",
            "True\n"
          ]
        }
      ]
    },
    {
      "cell_type": "markdown",
      "source": [
        "**8.What are logical operators in Python?**\n",
        "\n",
        "  Logical operators are used to combine conditions and give results in the form of True or False.\n",
        "\n",
        "  Types of Logical Operators:\n",
        "\n",
        "  and → Returns True only if both conditions are True.\n",
        "\n",
        "  or → Returns True if at least one condition is True.\n",
        "\n",
        "  not → Reverses the result (True becomes False, and False becomes True)."
      ],
      "metadata": {
        "id": "eySPBhyp-jsO"
      }
    },
    {
      "cell_type": "markdown",
      "source": [
        "**9.What is type casting in Python?**\n",
        "\n",
        " Type casting (or type conversion) is the process of converting a variable from one data type to another. For example, you might need to convert a string of numbers like \"123\" into an actual integer 123 so you can do math with it.\n",
        "\n",
        " Python provides simple, built-in functions for this:\n",
        "\n",
        " int(): Converts a value to an integer.\n",
        "\n",
        " float(): Converts a value to a floating-point number.\n",
        "\n",
        " str(): Converts a value to a string."
      ],
      "metadata": {
        "id": "4F0BQR6CG_C7"
      }
    },
    {
      "cell_type": "markdown",
      "source": [
        "**10.What is the difference between implicit and explicit type casting?**\n",
        "\n",
        "  **mplicit Type Casting:** This is done automatically by the Python interpreter. When you perform an operation with two different data types, like adding an integer and a float, Python will automatically convert the \"simpler\" type (integer) to the \"more complex\" type (float) to avoid losing information.\n",
        "\n",
        "  5 + 2.5 will automatically result in 7.5 (a float).\n",
        "\n",
        "  **Explicit Type Casting:** This is when you manually convert a data type using functions like int(), str(), etc. You are explicitly telling Python what you want to do.\n",
        "\n",
        "  age = str(25) explicitly converts the integer 25 to the string \"25\"."
      ],
      "metadata": {
        "id": "XlclSaUscj5X"
      }
    },
    {
      "cell_type": "markdown",
      "source": [
        "**11.What is the purpose of conditional statements in Python?**\n",
        "\n",
        "  The purpose of conditional statements (if, elif, else) is to control the flow of a program. They allow your code to make decisions and execute different blocks of code based on whether certain conditions are True or False.\n",
        "\n",
        "  Without them, a program would run the same way every single time. Conditionals give programs the ability to react differently to different inputs or situations."
      ],
      "metadata": {
        "id": "VdJWmt_qf2U8"
      }
    },
    {
      "cell_type": "markdown",
      "source": [
        "**12.How does the elif statement work?**\n",
        "\n",
        "  **elif is short for \"else if.\" It's used to check for multiple conditions in a sequence.**\n",
        "\n",
        "  Here's the flow:\n",
        "\n",
        "  Python first checks the if condition. If it's True, it runs that block of code and skips the rest of the if/elif/else chain.\n",
        "\n",
        "  If the if condition is False, it moves on to the first elif condition and checks it. If this elif is True, its code block is run, and the rest of the chain is skipped.\n",
        "\n",
        "  It continues this process for any other elif statements.\n",
        "\n",
        "  If all the if and elif conditions are False, the code inside the final else block (if one exists) will be executed."
      ],
      "metadata": {
        "id": "xxIaoT_EgPxh"
      }
    },
    {
      "cell_type": "markdown",
      "source": [
        "**13.What is the difference between for and while loops?**\n",
        "\n",
        "  The main difference is how they decide when to stop looping.\n",
        "\n",
        "  A **for** loop is used for definite iteration. This means you use it when you know how many times you want to loop. It's designed to iterate over a sequence of items (like a list, a string, or a range of numbers).\n",
        "\n",
        "  **Example: \"Do this for every item in this shopping list.\"**\n",
        "\n",
        "  A **while** loop is used for indefinite iteration. You use it when you want to keep looping as long as a certain condition remains True. You might not know ahead of time how many loops it will take.\n",
        "\n",
        "  **Example: \"Keep stirring this until it thickens.\"**"
      ],
      "metadata": {
        "id": "DAbuIL66g7GI"
      }
    },
    {
      "cell_type": "markdown",
      "source": [
        "**14.Describe a scenario where a while loop is more suitable than a for loop.**\n",
        "\n",
        "  A perfect scenario for a while loop is validating user input.\n",
        "\n",
        "  Imagine you're asking a user to enter their age, and you need to make sure they enter a positive number. You don't know how many attempts it will take for them to enter valid input—it could be the first time or the tenth time.\n",
        "\n",
        "  A while loop is ideal here:"
      ],
      "metadata": {
        "id": "X0NkREryh1tv"
      }
    },
    {
      "cell_type": "code",
      "source": [
        "age = 0\n",
        "# Keep asking as long as the age is not a positive number\n",
        "while age <= 0:\n",
        "    try:\n",
        "        age = int(input(\"Please enter your age: \"))\n",
        "        if age <= 0:\n",
        "            print(\"Age must be a positive number. Please try again.\")\n",
        "    except ValueError:\n",
        "        print(\"Invalid input. Please enter a number.\")\n",
        "\n",
        "print(f\"Thank you! Your age is {age}.\")"
      ],
      "metadata": {
        "id": "TBG8V8NSilR2"
      },
      "execution_count": null,
      "outputs": []
    },
    {
      "cell_type": "markdown",
      "source": [
        "**Practical Questions**"
      ],
      "metadata": {
        "id": "wJpKyu78svgv"
      }
    },
    {
      "cell_type": "markdown",
      "source": [
        "**1.Write a Python program to print \"Hello, World!y**"
      ],
      "metadata": {
        "id": "tyCIiYySsz0k"
      }
    },
    {
      "cell_type": "code",
      "source": [
        "print(\"Hello, World!\")"
      ],
      "metadata": {
        "colab": {
          "base_uri": "https://localhost:8080/"
        },
        "id": "CYolzbvftEuV",
        "outputId": "c9530a43-59a7-4a59-f3e7-fc9d81cbd482"
      },
      "execution_count": null,
      "outputs": [
        {
          "output_type": "stream",
          "name": "stdout",
          "text": [
            "Hello, World!\n"
          ]
        }
      ]
    },
    {
      "cell_type": "markdown",
      "source": [
        "**2.Write a Python program that displays your name and age**"
      ],
      "metadata": {
        "id": "Q3nmHvWVtIPE"
      }
    },
    {
      "cell_type": "code",
      "source": [
        "name = input(\"Enter your name: \")\n",
        "age = input(\"Enter your age: \")\n",
        "\n",
        "print(f\"Hello, {name}! You are {age} years old.\")"
      ],
      "metadata": {
        "id": "cXeOMt0-tW7L"
      },
      "execution_count": null,
      "outputs": []
    },
    {
      "cell_type": "markdown",
      "source": [
        "**3.Write code to print all the pre-defined keywords in Python using the keyword library8**"
      ],
      "metadata": {
        "id": "0rK48SEttgVX"
      }
    },
    {
      "cell_type": "code",
      "source": [
        "import keyword\n",
        "\n",
        "print(\"All Python keywords are:\")\n",
        "print(keyword.kwlist)"
      ],
      "metadata": {
        "id": "dyC5iOAntnnu"
      },
      "execution_count": null,
      "outputs": []
    },
    {
      "cell_type": "markdown",
      "source": [
        "**4.Write a program that checks if a given word is a Python keyword.**\n",
        "\n",
        "  "
      ],
      "metadata": {
        "id": "ZJtX9ccjv3zs"
      }
    },
    {
      "cell_type": "code",
      "source": [
        "import keyword\n",
        "\n",
        "word = input(\"Enter a word to check if it's a keyword: \")\n",
        "\n",
        "if keyword.iskeyword(word):\n",
        "  print(f\"'{word}' is a Python keyword. 👍\")\n",
        "else:\n",
        "  print(f\"'{word}' is not a Python keyword. ✅\")"
      ],
      "metadata": {
        "colab": {
          "base_uri": "https://localhost:8080/"
        },
        "id": "bDizEqnuMv3x",
        "outputId": "c0e7eafc-a4c8-48b2-edf9-942c143722dc"
      },
      "execution_count": null,
      "outputs": [
        {
          "output_type": "stream",
          "name": "stdout",
          "text": [
            "Enter a word to check if it's a keyword: phython\n",
            "'phython' is not a Python keyword. ✅\n"
          ]
        }
      ]
    },
    {
      "cell_type": "markdown",
      "source": [
        "**5.Create a list and tuple in Python, and demonstrate how attempting to change an element works differently for each.**"
      ],
      "metadata": {
        "id": "1Q90N0YENFvG"
      }
    },
    {
      "cell_type": "code",
      "source": [
        "# Create a list (mutable)\n",
        "my_list = [10, 20, 30]\n",
        "print(f\"Original list: {my_list}\")\n",
        "\n",
        "# Modify an element in the list\n",
        "my_list[0] = 100\n",
        "print(f\"Modified list: {my_list}\") # This works!\n",
        "\n",
        "print(\"-\" * 20)\n",
        "\n",
        "# Create a tuple (immutable)\n",
        "my_tuple = (10, 20, 30)\n",
        "print(f\"Original tuple: {my_tuple}\")\n",
        "\n",
        "# Attempt to modify an element in the tuple\n",
        "try:\n",
        "  my_tuple[0] = 100\n",
        "except TypeError as e:\n",
        "  print(f\"Could not modify tuple!\")\n",
        "  print(f\"Error: {e}\")"
      ],
      "metadata": {
        "id": "iBl3E8iFNe95"
      },
      "execution_count": null,
      "outputs": []
    },
    {
      "cell_type": "markdown",
      "source": [
        "**6.Write a function to demonstrate the behavior of mutable and immutable arguments.**"
      ],
      "metadata": {
        "id": "aheKROjVODvZ"
      }
    },
    {
      "cell_type": "code",
      "source": [
        "def modify_args(mutable_list, immutable_num):\n",
        "  print(\"\\n--- Inside the function ---\")\n",
        "  mutable_list.append(4) # This will change the original list\n",
        "  immutable_num += 10    # This only changes the local copy\n",
        "  print(f\"List inside function: {mutable_list}\")\n",
        "  print(f\"Number inside function: {immutable_num}\")\n",
        "  print(\"--- Exiting the function ---\\n\")\n",
        "\n",
        "# Initialize variables\n",
        "my_items = [1, 2, 3]\n",
        "my_number = 5\n",
        "\n",
        "print(f\"Original list BEFORE function call: {my_items}\")\n",
        "print(f\"Original number BEFORE function call: {my_number}\")\n",
        "\n",
        "# Call the function\n",
        "modify_args(my_items, my_number)\n",
        "\n",
        "print(f\"Original list AFTER function call: {my_items}\") # It has changed!\n",
        "print(f\"Original number AFTER function call: {my_number}\") # It has NOT changed!"
      ],
      "metadata": {
        "id": "gAxOWLqEONI5"
      },
      "execution_count": null,
      "outputs": []
    },
    {
      "cell_type": "markdown",
      "source": [
        "**7.Write a program that performs basic arithmetic operations on two user-input numbers.**"
      ],
      "metadata": {
        "id": "LZSjP9xsOk0p"
      }
    },
    {
      "cell_type": "code",
      "source": [
        "# Get two numbers from the user\n",
        "num1 = float(input(\"Enter the first number: \"))\n",
        "num2 = float(input(\"Enter the second number: \"))\n",
        "\n",
        "# Perform calculations\n",
        "addition = num1 + num2\n",
        "subtraction = num1 - num2\n",
        "multiplication = num1 * num2\n",
        "\n",
        "# Handle division by zero\n",
        "if num2 != 0:\n",
        "    division = num1 / num2\n",
        "else:\n",
        "    division = \"Cannot divide by zero\"\n",
        "\n",
        "# Print results\n",
        "print(f\"\\n{num1} + {num2} = {addition}\")\n",
        "print(f\"{num1} - {num2} = {subtraction}\")\n",
        "print(f\"{num1} * {num2} = {multiplication}\")\n",
        "print(f\"{num1} / {num2} = {division}\")"
      ],
      "metadata": {
        "id": "vBcKt9kTO58c"
      },
      "execution_count": null,
      "outputs": []
    },
    {
      "cell_type": "markdown",
      "source": [
        "**8.Write a program to demonstrate the use of logical operators.**"
      ],
      "metadata": {
        "id": "xQWLPUROO_kl"
      }
    },
    {
      "cell_type": "code",
      "source": [
        "age = 25\n",
        "is_student = True\n",
        "\n",
        "print(f\"Age: {age}, Is a student: {is_student}\\n\")\n",
        "\n",
        "# 'and' operator (both must be true)\n",
        "if age > 18 and is_student:\n",
        "  print(\"Eligible for student discount: True\")\n",
        "else:\n",
        "  print(\"Eligible for student discount: False\")\n",
        "\n",
        "# 'or' operator (at least one must be true)\n",
        "has_ticket = False\n",
        "has_invitation = True\n",
        "if has_ticket or has_invitation:\n",
        "  print(\"\\nAllowed to enter the event: True\")\n",
        "else:\n",
        "  print(\"\\nAllowed to enter the event: False\")\n",
        "\n",
        "# 'not' operator (reverses the boolean value)\n",
        "is_raining = False\n",
        "print(f\"\\nIs it raining? {is_raining}\")\n",
        "print(f\"Is it NOT raining? {not is_raining}\")"
      ],
      "metadata": {
        "id": "YK1kDLRsPH-T"
      },
      "execution_count": null,
      "outputs": []
    },
    {
      "cell_type": "markdown",
      "source": [
        "**9.Write a Python program to convert user input from string to integer, float, and boolean types.**"
      ],
      "metadata": {
        "id": "j8GfHTTqQLzQ"
      }
    },
    {
      "cell_type": "code",
      "source": [],
      "metadata": {
        "id": "P36tW_t-QVJ1"
      },
      "execution_count": null,
      "outputs": []
    },
    {
      "cell_type": "code",
      "source": [
        "\\#first of all we take  input in string\n",
        "#We will take input in numbers because characters cannot be converted  into numbers\n",
        "\n",
        "String_input = int(input(\"Please enter a number : \"))\n",
        "\n",
        "print(type(\"String_input\"))\n",
        "\n",
        "\n",
        "#change string into integer type\n",
        "String_to_interger = int(String_input)\n",
        "\n",
        "print(\"String_to_interger:\", String_to_interger)\n",
        "\n",
        "print(type(String_to_interger))"
      ],
      "metadata": {
        "colab": {
          "base_uri": "https://localhost:8080/"
        },
        "id": "e_7KrPsk66GT",
        "outputId": "4ebb07fa-f27c-4189-99e8-7871b3b70a75"
      },
      "execution_count": null,
      "outputs": [
        {
          "output_type": "stream",
          "name": "stdout",
          "text": [
            "Please enter a number : 485\n",
            "<class 'str'>\n",
            "String_to_interger: 485\n",
            "<class 'int'>\n"
          ]
        }
      ]
    },
    {
      "cell_type": "markdown",
      "source": [
        "**10.Write code to demonstrate type casting with list elements.**"
      ],
      "metadata": {
        "id": "xGKyL7nMUvZO"
      }
    },
    {
      "cell_type": "code",
      "source": [
        "str_numbers = [\"15\", \"30\", \"45\", \"60\"]\n",
        "print(f\"Original list of strings: {str_numbers}\")\n",
        "\n",
        "# Use list comprehension to cast each element to an integer\n",
        "int_numbers = [int(num) for num in str_numbers]\n",
        "\n",
        "print(f\"New list of integers: {int_numbers}\")\n",
        "print(f\"The first element's type is now: {type(int_numbers[0])}\")"
      ],
      "metadata": {
        "colab": {
          "base_uri": "https://localhost:8080/"
        },
        "id": "WrKyQB2CU0z4",
        "outputId": "cb131e25-bddf-4d99-dcfb-3d8e3b72b4bc"
      },
      "execution_count": null,
      "outputs": [
        {
          "output_type": "stream",
          "name": "stdout",
          "text": [
            "Original list of strings: ['15', '30', '45', '60']\n",
            "New list of integers: [15, 30, 45, 60]\n",
            "The first element's type is now: <class 'int'>\n"
          ]
        }
      ]
    },
    {
      "cell_type": "markdown",
      "source": [
        "**11.Write a program that checks if a number is positive, negative, or zero.**"
      ],
      "metadata": {
        "id": "q4Xs9buPVNIn"
      }
    },
    {
      "cell_type": "code",
      "source": [
        "num = float(input(\"Enter a number: \"))\n",
        "\n",
        "if num > 0:\n",
        "  print(\"The number is positive.\")\n",
        "elif num < 0:\n",
        "  print(\"The number is negative.\")\n",
        "else:\n",
        "  print(\"The number is zero.\")"
      ],
      "metadata": {
        "id": "u6KdVX6uVXu_"
      },
      "execution_count": null,
      "outputs": []
    },
    {
      "cell_type": "markdown",
      "source": [
        "**12.Write a for loop to print numbers from 1 to 10.**"
      ],
      "metadata": {
        "id": "em2AVhmwVfQ-"
      }
    },
    {
      "cell_type": "code",
      "source": [
        "print(\"Printing numbers from 1 to 10:\")\n",
        "for i in range(1, 11):\n",
        "  print(i)"
      ],
      "metadata": {
        "id": "mSI57z8JVott"
      },
      "execution_count": null,
      "outputs": []
    },
    {
      "cell_type": "markdown",
      "source": [
        "**13.Write a Python program to find the sum of all even numbers between 1 and 50.**"
      ],
      "metadata": {
        "id": "C9ZL5iHDVuwT"
      }
    },
    {
      "cell_type": "code",
      "source": [
        "total_sum = 0\n",
        "# Iterate from 1 to 50 (inclusive)\n",
        "for number in range(1, 51):\n",
        "  # Check if the number is even\n",
        "  if number % 2 == 0:\n",
        "    total_sum += number # Add it to the sum\n",
        "\n",
        "print(f\"The sum of all even numbers between 1 and 50 is: {total_sum}\")"
      ],
      "metadata": {
        "id": "7v2fvbLfWCP8"
      },
      "execution_count": null,
      "outputs": []
    },
    {
      "cell_type": "markdown",
      "source": [
        "**14.Write a program to reverse a string using a while loop.**"
      ],
      "metadata": {
        "id": "K5M6igx4WGs8"
      }
    },
    {
      "cell_type": "code",
      "source": [
        "original_string = input(\"Enter a string to reverse: \")\n",
        "reversed_string = \"\"\n",
        "\n",
        "# Start index at the last character\n",
        "index = len(original_string) - 1\n",
        "\n",
        "while index >= 0:\n",
        "  reversed_string += original_string[index]\n",
        "  index -= 1 # Move to the previous character\n",
        "\n",
        "print(f\"The reversed string is: {reversed_string}\")"
      ],
      "metadata": {
        "id": "pQnO32heWM_K"
      },
      "execution_count": null,
      "outputs": []
    },
    {
      "cell_type": "markdown",
      "source": [
        "**15. Write a Python program to calculate the factorial of a number provided by the user using a while loop.**"
      ],
      "metadata": {
        "id": "nO1NvHODWWKx"
      }
    },
    {
      "cell_type": "code",
      "source": [
        "num = int(input(\"Enter a non-negative number to find its factorial: \"))\n",
        "factorial = 1\n",
        "\n",
        "if num < 0: ko\n",
        "  print(\"Factorial is not defined for negative numbers.\")\n",
        "elif num == 0:\n",
        "  print(\"The factorial of 0 is 1.\")\n",
        "else:\n",
        "  # Use a copy of the number for the loop\n",
        "  i = num\n",
        "  while i > 0:\n",
        "    factorial *= i\n",
        "    i -= 1\n",
        "  print(f\"The factorial of {num} is {factorial}\")"
      ],
      "metadata": {
        "id": "kB3b2lS8WfvU"
      },
      "execution_count": null,
      "outputs": []
    }
  ]
}